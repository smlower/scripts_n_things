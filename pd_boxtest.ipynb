{
 "cells": [
  {
   "cell_type": "code",
   "execution_count": 4,
   "metadata": {},
   "outputs": [],
   "source": [
    "import numpy as np\n",
    "import matplotlib.pyplot as plt\n",
    "from hyperion.model import ModelOutput\n",
    "#from astropy.cosmology import Planck15                                                                     \n",
    "from astropy import units as u\n",
    "from astropy import constants\n",
    "from decimal import Decimal\n",
    "import prospect.io.read_results as pread"
   ]
  },
  {
   "cell_type": "code",
   "execution_count": 2,
   "metadata": {},
   "outputs": [],
   "source": [
    "caesar_pos = np.load('/Volumes/ufrc/narayanan/s.lower/pd_runs/simba_m25n512/caesar_pos_radii.npz')"
   ]
  },
  {
   "cell_type": "code",
   "execution_count": 3,
   "metadata": {},
   "outputs": [],
   "source": [
    "radii = caesar_pos['stellar_radius'][()]"
   ]
  },
  {
   "cell_type": "code",
   "execution_count": 4,
   "metadata": {},
   "outputs": [],
   "source": [
    "sizes = []\n",
    "for i in range(2463):\n",
    "    sizes.append(radii['galaxy'+str(i)]['snap305'])"
   ]
  },
  {
   "cell_type": "code",
   "execution_count": 1,
   "metadata": {},
   "outputs": [],
   "source": [
    "#0, 5, 20, 50, 80\n",
    "galaxy='007'"
   ]
  },
  {
   "cell_type": "code",
   "execution_count": 2,
   "metadata": {},
   "outputs": [],
   "source": [
    "run_old = '/Volumes/ufrc/narayanan/s.lower/pd_runs/simba_m25n512/snap305/snap305.galaxy'+galaxy+'.rtout.sed'\n",
    "\n",
    "run_filtered = '/Volumes/ufrc/narayanan/s.lower/pd_runs/simba_m25n512/snap305_boxtest/snap305/snap305.galaxy'+galaxy+'.rtout.sed'\n",
    "\n",
    "run_new = '/Volumes/ufrc/narayanan/s.lower/pd_runs/simba_m25n512/snap305_boxtest/snap305_fixedbox/snap305.galaxy'+galaxy+'.rtout.sed'"
   ]
  },
  {
   "cell_type": "code",
   "execution_count": 5,
   "metadata": {},
   "outputs": [],
   "source": [
    "m_old = ModelOutput(run_old)\n",
    "wavo,fluxo = m_old.get_sed(inclination='all',aperture=-1)\n",
    "#except: print('error loading galaxy: ',sys.argv[2])                                                        \n",
    "wavo  = np.asarray(wavo)*u.micron #wav is in micron                                                           \n",
    "#wav *= (1.+z)                                                                                              \n",
    "\n",
    "fluxo = np.asarray(fluxo)*u.erg/u.s\n",
    "dlo = 10.0*u.pc\n",
    "dlo = dlo.to(u.cm)\n",
    "\n",
    "\n",
    "fluxo /= (4.*3.14*dlo**2.)\n",
    "\n",
    "nuo = constants.c.cgs/(wavo.to(u.cm))\n",
    "nuo = nuo.to(u.Hz)\n",
    "\n",
    "fluxo /= nuo\n",
    "fluxo = fluxo.to(u.mJy)"
   ]
  },
  {
   "cell_type": "code",
   "execution_count": 6,
   "metadata": {},
   "outputs": [],
   "source": [
    "m = ModelOutput(run_new)\n",
    "wav,flux = m.get_sed(inclination='all',aperture=-1)\n",
    "#except: print('error loading galaxy: ',sys.argv[2])                                                        \n",
    "wav  = np.asarray(wav)*u.micron #wav is in micron                                                           \n",
    "#wav *= (1.+z)                                                                                              \n",
    "\n",
    "flux = np.asarray(flux)*u.erg/u.s\n",
    "dl = 10.0*u.pc\n",
    "dl = dl.to(u.cm)\n",
    "\n",
    "\n",
    "flux /= (4.*3.14*dl**2.)\n",
    "\n",
    "nu = constants.c.cgs/(wav.to(u.cm))\n",
    "nu = nu.to(u.Hz)\n",
    "\n",
    "flux /= nu\n",
    "flux = flux.to(u.mJy)"
   ]
  },
  {
   "cell_type": "code",
   "execution_count": 34,
   "metadata": {},
   "outputs": [],
   "source": [
    "mf = ModelOutput(run_filtered)\n",
    "wavf,fluxf = mf.get_sed(inclination='all',aperture=-1)\n",
    "#except: print('error loading galaxy: ',sys.argv[2])                                                        \n",
    "wavf  = np.asarray(wavf)*u.micron #wav is in micron                                                           \n",
    "#wav *= (1.+z)                                                                                              \n",
    "wavf = wavf.to(u.Angstrom)\n",
    "\n",
    "fluxf = np.asarray(fluxf)*u.erg/u.s\n",
    "dlf = 10.0*u.pc\n",
    "dlf = dlf.to(u.cm)\n",
    "\n",
    "\n",
    "fluxf /= (4.*3.14*dl**2.)\n",
    "\n",
    "nuf = constants.c.cgs/(wavf.to(u.cm))\n",
    "nuf = nuf.to(u.Hz)\n",
    "\n",
    "fluxf /= nuf\n",
    "fluxf = fluxf.to(u.mJy)\n",
    "fluxf = (fluxf[0].value * 1000.) / 3631."
   ]
  },
  {
   "cell_type": "code",
   "execution_count": 8,
   "metadata": {},
   "outputs": [],
   "source": [
    "res, obs, mod = pread.results_from('/Volumes/ufrc/narayanan/s.lower/simSEDs/simbam25n512_newfof/snap305_nonparametricSFH/filtered_dirichlet/snap305.galaxy007_1562512336_mcmc.h5', dangerous=False)\n"
   ]
  },
  {
   "cell_type": "code",
   "execution_count": 9,
   "metadata": {},
   "outputs": [],
   "source": [
    "imax = np.argmax(res['lnprobability'])\n",
    "theta_best = res['chain'][imax, :].copy()\n"
   ]
  },
  {
   "cell_type": "code",
   "execution_count": 10,
   "metadata": {},
   "outputs": [],
   "source": [
    "from prospect.sources import FastStepBasis\n",
    "sps = FastStepBasis(compute_vega_mags=False, zcontinuous=1)"
   ]
  },
  {
   "cell_type": "code",
   "execution_count": 11,
   "metadata": {},
   "outputs": [
    {
     "name": "stderr",
     "output_type": "stream",
     "text": [
      "/anaconda3/lib/python3.6/site-packages/ipykernel_launcher.py:14: RuntimeWarning: divide by zero encountered in log10\n",
      "  \n"
     ]
    }
   ],
   "source": [
    "from prospect.models.templates import TemplateLibrary, adjust_dirichlet_agebins\n",
    "from prospect.models import priors, SedModel\n",
    "model_params = TemplateLibrary[\"dirichlet_sfh\"]\n",
    "model_params.update(TemplateLibrary[\"dust_emission\"])\n",
    "\n",
    "model_params[\"lumdist\"] = {\"N\": 1, \"isfree\": False,\n",
    "                               \"init\": 1.0e-5, \"units\":\"Mpc\"}\n",
    "nbins = 10\n",
    "tuniv = 13.7\n",
    "tbinmax = (tuniv * 0.85)\n",
    "lim1, lim2 = 7.4772, 8.0\n",
    "agelims = [0,lim1] + np.linspace(lim2,tbinmax,nbins-2).tolist() + [tuniv]\n",
    "\n",
    "model_params = adjust_dirichlet_agebins(model_params, agelims=(np.log10(agelims) + 9))\n",
    "\n",
    "model_params['logzsol']['init'] = 0.0\n",
    "model_params['logzsol']['prior'] = priors.TopHat(mini=-2.0, maxi=0.5)\n",
    "model_params['mass']['prior'] = priors.TopHat(mini=1e7, maxi=1e13)\n",
    "# Set the dust and agn emission free                                                                                                                                                                                                      \n",
    "model_params[\"duste_qpah\"][\"isfree\"] = True\n",
    "model_params[\"duste_umin\"][\"isfree\"] = True\n",
    "model_params[\"duste_gamma\"][\"isfree\"] = True\n",
    "model_params['duste_gamma']['init'] = 0.1\n",
    "model_params['duste_umin']['prior'] = priors.TopHat(mini=0.01, maxi=35)\n",
    "model_params['duste_qpah']['prior'] = priors.TopHat(mini=0.01, maxi=5.0)\n",
    "model_params[\"duste_gamma\"][\"prior\"] = priors.TopHat(mini=1e-3, maxi=0.5)\n",
    "\n",
    "\n",
    "\n",
    "\n",
    "\n",
    "# Complexify the dust attenuation                                                                                                                                                                                                         \n",
    "model_params[\"dust_type\"] = {\"N\": 1, \"isfree\": False, \"init\": 4, \"units\": \"FSPS index\"} #Conroy & Kriek dust atten.                                                                                                                       \n",
    "model_params[\"dust2\"][\"prior\"] = priors.TopHat(mini=0.0, maxi=4.0)\n",
    "model_params[\"dust1\"] = {\"N\": 1, \"isfree\": True,\n",
    "                     \"init\": 0.0, \"units\": \"optical depth towards young stars\",\n",
    "                     \"prior\": priors.TopHat(mini=0.0, maxi=4.0)}\n",
    "model_params[\"dust_index\"] = {\"N\": 1, \"isfree\": True,\n",
    "                     \"init\": 0.0, \"units\": \"power-law multiplication of Calzetti\",\n",
    "                     \"prior\": priors.TopHat(mini=-2.5, maxi=0.7)}\n",
    "\n",
    "# Now instantiate the model using this new dictionary of parameter specifications                                                                                                                                                         \n",
    "model = SedModel(model_params)"
   ]
  },
  {
   "cell_type": "code",
   "execution_count": 12,
   "metadata": {},
   "outputs": [],
   "source": [
    "spec, phot, mfrac = model.mean_model(theta_best, obs, sps)\n",
    "wav = sps.wavelengths"
   ]
  },
  {
   "cell_type": "code",
   "execution_count": 35,
   "metadata": {},
   "outputs": [
    {
     "data": {
      "text/plain": [
       "<matplotlib.legend.Legend at 0x1a7efb6780>"
      ]
     },
     "execution_count": 35,
     "metadata": {},
     "output_type": "execute_result"
    },
    {
     "data": {
      "image/png": "[encoded data removed]",
      "text/plain": [
       "<Figure size 720x576 with 1 Axes>"
      ]
     },
     "metadata": {},
     "output_type": "display_data"
    }
   ],
   "source": [
    "plt.figure(figsize=(10, 8))\n",
    "#plt.plot(wavo, fluxo[0], color='navy', label='Box Size = 200kpc')\n",
    "#plt.plot(wav, flux[0], color='orange', label='Box Size = 50 kpc')\n",
    "plt.plot(wavf, fluxf, color='lightblue', label='Box Size = Entire Galaxy')\n",
    "plt.plot(wav, spec, color='navy', label='Prospector Spectrum')\n",
    "plt.xscale('log')\n",
    "plt.yscale('log')\n",
    "plt.ylabel('Flux [mJy]', fontsize=22)\n",
    "plt.xlabel('$\\lambda$ [$\\mu$m]', fontsize=23)\n",
    "plt.ylim([1e2, 1e13])\n",
    "plt.legend(loc='lower right', fontsize=15)\n",
    "#plt.annotate('Galaxy'+galaxy+'\\n Size: '+\"{:.1e}\".format(Decimal(str(sizes[0])))+'kpc', xy=(1e-3, 1e15), fontsize=15)\n",
    "#plt.savefig('/Users/sidneylower/Documents/snap305_boxtest/SED_comp'+galaxy+'.png')"
   ]
  },
  {
   "cell_type": "code",
   "execution_count": null,
   "metadata": {},
   "outputs": [],
   "source": []
  }
 ],
 "metadata": {
  "kernelspec": {
   "display_name": "Python 3",
   "language": "python",
   "name": "python3"
  },
  "language_info": {
   "codemirror_mode": {
    "name": "ipython",
    "version": 3
   },
   "file_extension": ".py",
   "mimetype": "text/x-python",
   "name": "python",
   "nbconvert_exporter": "python",
   "pygments_lexer": "ipython3",
   "version": "3.6.8"
  }
 },
 "nbformat": 4,
 "nbformat_minor": 2
}
