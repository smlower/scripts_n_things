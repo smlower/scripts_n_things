{
 "cells": [
  {
   "cell_type": "code",
   "execution_count": 2,
   "metadata": {},
   "outputs": [],
   "source": [
    "from astropy.convolution import convolve_fft\n",
    "import numpy as np\n",
    "import pandas as pd\n",
    "import matplotlib.pyplot as plt\n",
    "from sedpy.observate import load_filters, Filter\n",
    "\n",
    "\n",
    "import pyphot"
   ]
  },
  {
   "cell_type": "code",
   "execution_count": 90,
   "metadata": {},
   "outputs": [],
   "source": [
    "def find_nearest(array,value):\n",
    "    idx = (np.abs(np.array(array)-value)).argmin()\n",
    "    return idx"
   ]
  },
  {
   "cell_type": "code",
   "execution_count": 4,
   "metadata": {},
   "outputs": [],
   "source": [
    "sed = np.load('/Users/sidneylower/ml_demo/SED_galaxy100.npz')"
   ]
  },
  {
   "cell_type": "code",
   "execution_count": 11,
   "metadata": {},
   "outputs": [],
   "source": [
    "wav, flux = sed['wav'], sed['spec']\n"
   ]
  },
  {
   "cell_type": "code",
   "execution_count": 12,
   "metadata": {},
   "outputs": [],
   "source": [
    "wav = wav * pyphot.unit['AA']"
   ]
  },
  {
   "cell_type": "code",
   "execution_count": 14,
   "metadata": {},
   "outputs": [],
   "source": [
    "flux = (flux * 3631) * pyphot.unit['jansky']"
   ]
  },
  {
   "cell_type": "code",
   "execution_count": 23,
   "metadata": {},
   "outputs": [
    {
     "data": {
      "text/plain": [
       "<matplotlib.collections.PathCollection at 0xb1e73c350>"
      ]
     },
     "execution_count": 23,
     "metadata": {},
     "output_type": "execute_result"
    },
    {
     "data": {
      "image/png": "[encoded data removed]",
      "text/plain": [
       "<Figure size 432x288 with 1 Axes>"
      ]
     },
     "metadata": {
      "needs_background": "light"
     },
     "output_type": "display_data"
    }
   ],
   "source": [
    "plt.loglog(wav.value, flux.value)\n",
    "plt.scatter(filters[9].wave_effective,test , color='red')"
   ]
  },
  {
   "cell_type": "code",
   "execution_count": 19,
   "metadata": {},
   "outputs": [
    {
     "data": {
      "text/latex": [
       "$[1007.2131,~1001.6624,~996.14226,~\\dots,~0.0010240505,~0.001018407,~0.0010127946] \\; \\mathrm{\\mu m}$"
      ],
      "text/plain": [
       "<Quantity [1.00721309e+03, 1.00166238e+03, 9.96142255e+02, ...,\n",
       "           1.02405047e-03, 1.01840697e-03, 1.01279457e-03] micron>"
      ]
     },
     "execution_count": 19,
     "metadata": {},
     "output_type": "execute_result"
    }
   ],
   "source": [
    "wav.to(u.micron)"
   ]
  },
  {
   "cell_type": "code",
   "execution_count": 18,
   "metadata": {},
   "outputs": [],
   "source": [
    "galex = ['galex_FUV', 'galex_NUV']\n",
    "hst_wfc3_uv  = ['wfc3_uvis_f275w', 'wfc3_uvis_f336w', 'wfc3_uvis_f475w','wfc3_uvis_f555w', 'wfc3_uvis_f606w', 'wfc3_uvis_f814w']\n",
    "#sdss = ['sdss_u0', 'sdss_g0', 'sdss_r0', 'sdss_i0', 'sdss_z0']\n",
    "hst_wfc3_ir = ['wfc3_ir_f105w', 'wfc3_ir_f110w', 'wfc3_ir_f125w', 'wfc3_ir_f140w', 'wfc3_ir_f160w']\n",
    "spitzer_mips = ['spitzer_mips_24']\n",
    "herschel_pacs = ['herschel_pacs_70', 'herschel_pacs_100', 'herschel_pacs_160']\n",
    "herschel_spire = ['herschel_spire_250', 'herschel_spire_350', 'herschel_spire_500']\n",
    "filternames = (galex + hst_wfc3_uv + hst_wfc3_ir + spitzer_mips + herschel_pacs + herschel_spire)"
   ]
  },
  {
   "cell_type": "code",
   "execution_count": 19,
   "metadata": {},
   "outputs": [],
   "source": [
    "filters = load_filters(filternames)"
   ]
  },
  {
   "cell_type": "code",
   "execution_count": 20,
   "metadata": {},
   "outputs": [
    {
     "data": {
      "text/plain": [
       "[<class 'sedpy.observate.Filter'>(galex_FUV),\n",
       " <class 'sedpy.observate.Filter'>(galex_NUV),\n",
       " <class 'sedpy.observate.Filter'>(wfc3_uvis_f275w),\n",
       " <class 'sedpy.observate.Filter'>(wfc3_uvis_f336w),\n",
       " <class 'sedpy.observate.Filter'>(wfc3_uvis_f475w),\n",
       " <class 'sedpy.observate.Filter'>(wfc3_uvis_f555w),\n",
       " <class 'sedpy.observate.Filter'>(wfc3_uvis_f606w),\n",
       " <class 'sedpy.observate.Filter'>(wfc3_uvis_f814w),\n",
       " <class 'sedpy.observate.Filter'>(wfc3_ir_f105w),\n",
       " <class 'sedpy.observate.Filter'>(wfc3_ir_f110w),\n",
       " <class 'sedpy.observate.Filter'>(wfc3_ir_f125w),\n",
       " <class 'sedpy.observate.Filter'>(wfc3_ir_f140w),\n",
       " <class 'sedpy.observate.Filter'>(wfc3_ir_f160w),\n",
       " <class 'sedpy.observate.Filter'>(spitzer_mips_24),\n",
       " <class 'sedpy.observate.Filter'>(herschel_pacs_70),\n",
       " <class 'sedpy.observate.Filter'>(herschel_pacs_100),\n",
       " <class 'sedpy.observate.Filter'>(herschel_pacs_160),\n",
       " <class 'sedpy.observate.Filter'>(herschel_spire_250),\n",
       " <class 'sedpy.observate.Filter'>(herschel_spire_350),\n",
       " <class 'sedpy.observate.Filter'>(herschel_spire_500)]"
      ]
     },
     "execution_count": 20,
     "metadata": {},
     "output_type": "execute_result"
    }
   ],
   "source": [
    "filters"
   ]
  },
  {
   "cell_type": "code",
   "execution_count": 89,
   "metadata": {},
   "outputs": [
    {
     "ename": "NameError",
     "evalue": "name 'find_nearest' is not defined",
     "output_type": "error",
     "traceback": [
      "\u001b[0;31m---------------------------------------------------------------------------\u001b[0m",
      "\u001b[0;31mNameError\u001b[0m                                 Traceback (most recent call last)",
      "\u001b[0;32m<ipython-input-89-ea9cd4b1f108>\u001b[0m in \u001b[0;36m<module>\u001b[0;34m\u001b[0m\n\u001b[1;32m      1\u001b[0m \u001b[0mflux_range\u001b[0m \u001b[0;34m=\u001b[0m \u001b[0;34m[\u001b[0m\u001b[0;34m]\u001b[0m\u001b[0;34m\u001b[0m\u001b[0;34m\u001b[0m\u001b[0m\n\u001b[1;32m      2\u001b[0m \u001b[0;32mfor\u001b[0m \u001b[0mj\u001b[0m \u001b[0;32min\u001b[0m \u001b[0mfilters\u001b[0m\u001b[0;34m[\u001b[0m\u001b[0;36m10\u001b[0m\u001b[0;34m]\u001b[0m\u001b[0;34m.\u001b[0m\u001b[0mwavelength\u001b[0m\u001b[0;34m:\u001b[0m\u001b[0;34m\u001b[0m\u001b[0;34m\u001b[0m\u001b[0m\n\u001b[0;32m----> 3\u001b[0;31m     \u001b[0mflux_range\u001b[0m\u001b[0;34m.\u001b[0m\u001b[0mappend\u001b[0m\u001b[0;34m(\u001b[0m\u001b[0mflux\u001b[0m\u001b[0;34m[\u001b[0m\u001b[0mfind_nearest\u001b[0m\u001b[0;34m(\u001b[0m\u001b[0mwav\u001b[0m\u001b[0;34m.\u001b[0m\u001b[0mvalue\u001b[0m\u001b[0;34m,\u001b[0m\u001b[0mj\u001b[0m\u001b[0;34m)\u001b[0m\u001b[0;34m]\u001b[0m\u001b[0;34m)\u001b[0m\u001b[0;34m\u001b[0m\u001b[0;34m\u001b[0m\u001b[0m\n\u001b[0m",
      "\u001b[0;31mNameError\u001b[0m: name 'find_nearest' is not defined"
     ]
    }
   ],
   "source": [
    "flux_range = []\n",
    "for j in filters[10].wavelength:\n",
    "    flux_range.append(flux[find_nearest(wav.value,j)])"
   ]
  },
  {
   "cell_type": "code",
   "execution_count": 35,
   "metadata": {},
   "outputs": [],
   "source": [
    "res = flux_range * filters[10].transmission"
   ]
  },
  {
   "cell_type": "code",
   "execution_count": 36,
   "metadata": {},
   "outputs": [
    {
     "data": {
      "text/plain": [
       "0.0012813046739319483"
      ]
     },
     "execution_count": 36,
     "metadata": {},
     "output_type": "execute_result"
    }
   ],
   "source": [
    "np.sum(res)"
   ]
  },
  {
   "cell_type": "code",
   "execution_count": 29,
   "metadata": {},
   "outputs": [
    {
     "data": {
      "text/plain": [
       "3320.0"
      ]
     },
     "execution_count": 29,
     "metadata": {},
     "output_type": "execute_result"
    }
   ],
   "source": [
    "(filters[10].wavelength[-1] - filters[10].wavelength[0])"
   ]
  },
  {
   "cell_type": "code",
   "execution_count": 38,
   "metadata": {},
   "outputs": [
    {
     "data": {
      "text/plain": [
       "3.8593514275058684e-07"
      ]
     },
     "execution_count": 38,
     "metadata": {},
     "output_type": "execute_result"
    }
   ],
   "source": [
    "np.sum(res) / (filters[10].wavelength[-1] - filters[10].wavelength[0])"
   ]
  },
  {
   "cell_type": "code",
   "execution_count": 3,
   "metadata": {},
   "outputs": [],
   "source": [
    "lib = pyphot.get_library()\n",
    "f = lib['HST_WFC3_F110W']"
   ]
  },
  {
   "cell_type": "code",
   "execution_count": 21,
   "metadata": {},
   "outputs": [],
   "source": [
    "test = f.get_flux(wav, flux)"
   ]
  },
  {
   "cell_type": "code",
   "execution_count": 44,
   "metadata": {},
   "outputs": [],
   "source": [
    "import fsps\n",
    "import astropy.units as u\n",
    "from astropy.cosmology import Planck15"
   ]
  },
  {
   "cell_type": "code",
   "execution_count": 96,
   "metadata": {},
   "outputs": [],
   "source": [
    "sp = fsps.StellarPopulation(zcontinuous=1, sfh=1, dust_type=4, dust2=1, zred=2)"
   ]
  },
  {
   "cell_type": "code",
   "execution_count": 97,
   "metadata": {},
   "outputs": [],
   "source": [
    "sps_wav, sps_lum = sp.get_spectrum(tage=9)"
   ]
  },
  {
   "cell_type": "code",
   "execution_count": 111,
   "metadata": {},
   "outputs": [
    {
     "data": {
      "text/plain": [
       "(1e-33, 1e-24)"
      ]
     },
     "execution_count": 111,
     "metadata": {},
     "output_type": "execute_result"
    },
    {
     "data": {
      "image/png": "[encoded data removed]",
      "text/plain": [
       "<Figure size 432x288 with 1 Axes>"
      ]
     },
     "metadata": {
      "needs_background": "light"
     },
     "output_type": "display_data"
    }
   ],
   "source": [
    "plt.loglog(sps_wav*3, sps_flux)\n",
    "plt.scatter(filters[10].wave_effective, a / b, color='red')\n",
    "plt.ylim([1e-33, 1e-24])"
   ]
  },
  {
   "cell_type": "code",
   "execution_count": 99,
   "metadata": {},
   "outputs": [],
   "source": [
    "wav = (sps_wav * 3)*u.AA\n",
    "lum = sps_lum* u.Lsun / u.Hz"
   ]
  },
  {
   "cell_type": "code",
   "execution_count": 100,
   "metadata": {},
   "outputs": [],
   "source": [
    "dl = Planck15.luminosity_distance(2)"
   ]
  },
  {
   "cell_type": "code",
   "execution_count": 101,
   "metadata": {},
   "outputs": [],
   "source": [
    "sps_flux = lum / (4 * np.pi * dl**2)"
   ]
  },
  {
   "cell_type": "code",
   "execution_count": 102,
   "metadata": {},
   "outputs": [
    {
     "data": {
      "text/latex": [
       "$[1.260021 \\times 10^{-72},~1.260021 \\times 10^{-72},~1.260021 \\times 10^{-72},~\\dots,~4.8217253 \\times 10^{-21},~4.6940932 \\times 10^{-21},~4.5729906 \\times 10^{-21}] \\; \\mathrm{Jy}$"
      ],
      "text/plain": [
       "<Quantity [1.26002102e-72, 1.26002102e-72, 1.26002102e-72, ...,\n",
       "           4.82172529e-21, 4.69409317e-21, 4.57299055e-21] Jy>"
      ]
     },
     "execution_count": 102,
     "metadata": {},
     "output_type": "execute_result"
    }
   ],
   "source": [
    "sps_flux.to(u.Jy)"
   ]
  },
  {
   "cell_type": "code",
   "execution_count": 103,
   "metadata": {},
   "outputs": [],
   "source": [
    "flux_range = []\n",
    "wav_range = []\n",
    "for j in filters[10].wavelength:\n",
    "    flux_range.append(sps_flux[find_nearest(wav.value,j)].value)\n",
    "    wav_range.append(wav[find_nearest(wav.value,j)].value)"
   ]
  },
  {
   "cell_type": "code",
   "execution_count": 104,
   "metadata": {},
   "outputs": [],
   "source": [
    "a = np.trapz(wav_range * filters[10].transmission* flux_range, wav_range, axis=-1)\n",
    "b = np.trapz(wav_range * filters[10].transmission, wav_range)"
   ]
  },
  {
   "cell_type": "code",
   "execution_count": 105,
   "metadata": {},
   "outputs": [
    {
     "data": {
      "text/plain": [
       "7.283744653336351e-27"
      ]
     },
     "execution_count": 105,
     "metadata": {},
     "output_type": "execute_result"
    }
   ],
   "source": [
    "a / b"
   ]
  },
  {
   "cell_type": "code",
   "execution_count": 110,
   "metadata": {},
   "outputs": [
    {
     "data": {
      "text/plain": [
       "12409.620957882336"
      ]
     },
     "execution_count": 110,
     "metadata": {},
     "output_type": "execute_result"
    }
   ],
   "source": [
    "filters[10].wave_effective"
   ]
  },
  {
   "cell_type": "code",
   "execution_count": null,
   "metadata": {},
   "outputs": [],
   "source": []
  }
 ],
 "metadata": {
  "kernelspec": {
   "display_name": "Python 3",
   "language": "python",
   "name": "python3"
  },
  "language_info": {
   "codemirror_mode": {
    "name": "ipython",
    "version": 3
   },
   "file_extension": ".py",
   "mimetype": "text/x-python",
   "name": "python",
   "nbconvert_exporter": "python",
   "pygments_lexer": "ipython3",
   "version": "3.7.4"
  }
 },
 "nbformat": 4,
 "nbformat_minor": 2
}
