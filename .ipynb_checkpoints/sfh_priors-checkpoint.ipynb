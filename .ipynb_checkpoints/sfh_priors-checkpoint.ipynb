{
 "cells": [
  {
   "cell_type": "code",
   "execution_count": 251,
   "metadata": {},
   "outputs": [],
   "source": [
    "import matplotlib.pyplot as plt\n",
    "import numpy as np\n",
    "import scipy\n",
    "from prospect.models import priors, transforms"
   ]
  },
  {
   "cell_type": "code",
   "execution_count": 867,
   "metadata": {},
   "outputs": [],
   "source": [
    "sigma=0.3\n",
    "df=2\n",
    "nbins = 7\n",
    "tuniv = 13.7\n",
    "tbinmax = (tuniv * 0.85) * 1e9\n",
    "lim1, lim2 = np.log10(3e7), np.log10(1e8)\n",
    "agelims = [0,lim1] + np.linspace(lim2,np.log10(tbinmax),nbins-2).tolist() + [np.log10(tuniv*1e9)]\n",
    "agebins = np.array([agelims[:-1], agelims[1:]]).T\n",
    "\n",
    "\n",
    "nbins_sfh = len(agelims) - 1\n",
    "cont_prior = priors.StudentT(mean=np.full(nbins_sfh-1,0.0),scale=np.full(nbins_sfh-1,sigma),df=np.full(nbins_sfh-1,df))\n",
    "cont_mprior = priors.LogUniform(mini=1e8, maxi=1e12)\n",
    "\n",
    "alpha_sfh = 0.7 # desired Dirichlet concentration                                                       \n",
    "ncomp = nbins_sfh          # number of SFH bins                                                          \n",
    "alpha = np.repeat(alpha_sfh,ncomp-1)\n",
    "tilde_alpha = np.array([alpha[i-1:].sum() for i in range(1,ncomp)])\n",
    "dir_prior = priors.Beta(alpha=tilde_alpha, beta=alpha, mini=0.01, maxi=0.999)\n",
    "\n",
    "\n",
    "\n",
    "\n",
    "ndraw = 500000"
   ]
  },
  {
   "cell_type": "code",
   "execution_count": 868,
   "metadata": {},
   "outputs": [],
   "source": [
    "sfr_ratio = np.zeros((ndraw, nbins_sfh-1))\n",
    "for i in range(ndraw):\n",
    "    sfr_ratio[i] = cont_prior.sample()"
   ]
  },
  {
   "cell_type": "code",
   "execution_count": 869,
   "metadata": {},
   "outputs": [],
   "source": [
    "logmass = np.zeros(ndraw)\n",
    "for i in range(ndraw):\n",
    "    logmass[i] = cont_mprior.sample()"
   ]
  },
  {
   "cell_type": "code",
   "execution_count": 870,
   "metadata": {},
   "outputs": [],
   "source": [
    "zfrac = np.zeros((ndraw, nbins_sfh-1))\n",
    "for i in range(ndraw):\n",
    "    zfrac[i] = dir_prior.sample()"
   ]
  },
  {
   "cell_type": "code",
   "execution_count": 871,
   "metadata": {},
   "outputs": [],
   "source": [
    "cont_masses = []\n",
    "for i in range(ndraw):\n",
    "    cont_masses.append(transforms.logsfr_ratios_to_masses(np.log10(logmass[i]), sfr_ratio[i], agebins))"
   ]
  },
  {
   "cell_type": "code",
   "execution_count": 872,
   "metadata": {},
   "outputs": [],
   "source": [
    "dir_masses = []\n",
    "for i in range(ndraw):\n",
    "    dir_masses.append(transforms.zfrac_to_masses(logmass[i], zfrac[i], agebins))"
   ]
  },
  {
   "cell_type": "code",
   "execution_count": 873,
   "metadata": {},
   "outputs": [],
   "source": [
    "dir_sfr = []\n",
    "cont_sfr = []\n",
    "for i in range(ndraw):\n",
    "    dir_sfr.append(transforms.zfrac_to_sfr(logmass[i], zfrac[i], agebins))\n",
    "    cont_sfr.append(transforms.logsfr_ratios_to_sfrs(np.log10(logmass[i]), sfr_ratio[i], agebins))"
   ]
  },
  {
   "cell_type": "code",
   "execution_count": 874,
   "metadata": {},
   "outputs": [],
   "source": [
    "contsfr_30 = [t[0] for t in cont_sfr]\n",
    "contsfr_100 = [t[1] for t in cont_sfr]\n",
    "contsfr_comb = np.array([contsfr_30, contsfr_100])\n",
    "contsfr_100ave = np.average(contsfr_comb, axis=0)"
   ]
  },
  {
   "cell_type": "code",
   "execution_count": 875,
   "metadata": {},
   "outputs": [],
   "source": [
    "dirsfr_30 = [t[0] for t in dir_sfr]\n",
    "dirsfr_100 = [t[1] for t in dir_sfr]\n",
    "dirsfr_comb = np.array([dirsfr_30, dirsfr_100])\n",
    "dirsfr_100ave = np.average(dirsfr_comb, axis=0)"
   ]
  },
  {
   "cell_type": "code",
   "execution_count": 876,
   "metadata": {},
   "outputs": [],
   "source": [
    "sSFR_cont = np.asarray(contsfr_100ave) / np.asarray(logmass*0.8)\n",
    "sSFR_dir = np.asarray(dirsfr_100ave) / np.asarray(logmass*0.8)"
   ]
  },
  {
   "cell_type": "code",
   "execution_count": 881,
   "metadata": {},
   "outputs": [],
   "source": [
    "def nonpara_massweighted_age(mass_in_each_bin, time, total_mass):\n",
    "    top = 0.0\n",
    "    time = (10**time) / 1e9\n",
    "    #print(time)\n",
    "    for bin_ in range(len(mass_in_each_bin)):\n",
    "        top += 0.5 * np.abs(time[bin_] + time[bin_+1]) * mass_in_each_bin[bin_]\n",
    "        #print(top)\n",
    "    return top / (total_mass)"
   ]
  },
  {
   "cell_type": "code",
   "execution_count": 882,
   "metadata": {},
   "outputs": [],
   "source": [
    "age_cont = []\n",
    "for i in range(ndraw):\n",
    "    age_cont.append(nonpara_massweighted_age(mass_in_each_bin=cont_masses[i], time=np.unique(np.ravel(agebins)), total_mass=logmass[i]))\n",
    "    \n",
    "    "
   ]
  },
  {
   "cell_type": "code",
   "execution_count": 885,
   "metadata": {},
   "outputs": [
    {
     "data": {
      "image/png": "[encoded data removed]",
      "text/plain": [
       "<Figure size 1152x576 with 2 Axes>"
      ]
     },
     "metadata": {
      "needs_background": "light"
     },
     "output_type": "display_data"
    }
   ],
   "source": [
    "plt.rc('axes', linewidth=2)\n",
    "fig, (ax1, ax2) = plt.subplots(1, 2, figsize=(16, 8))\n",
    "plt.subplots_adjust(wspace=0.04, hspace=0.05)\n",
    "\n",
    "\n",
    "\n",
    "for ax in (ax1, ax2):\n",
    "    ax.tick_params(axis='both', which='major', labelsize=15)\n",
    "    ax.tick_params(axis='both', which='minor')\n",
    "    ax.set_xlabel('Mass Weighted Age [Gyr]', fontsize=23)\n",
    "    ax.get_yaxis().set_ticks([])\n",
    "\n",
    "nc, bins, _ = ax1.hist(age_cont, bins=50, range=(0, 13), histtype='step', color='crimson', lw=3)\n",
    "nb, bins, _ = ax2.hist(age_dir, bins=50, range=(0, 13), histtype='step', color='darkorange', lw=3)\n",
    "ax1.plot([np.median(age_cont), np.median(age_cont)], [0, 1e5], color='black', ls='--', lw=2)\n",
    "ax2.plot([np.median(age_dir), np.median(age_dir)], [0, 1e5], color='black', ls='--', lw=2)\n",
    "\n",
    "ax1.set_ylim([0, np.max(nc)+1000])\n",
    "ax2.set_ylim([0, np.max(nb)+1000])\n",
    "ax1.set_title('Continuity', fontsize=20)\n",
    "ax2.set_title('Dirichlet', fontsize=20)\n",
    "\n",
    "plt.savefig('/Users/sidneylower/Documents/prosp_final_plots/age_prior.png', dpi=300, bbox_inches='tight')"
   ]
  },
  {
   "cell_type": "code",
   "execution_count": 883,
   "metadata": {},
   "outputs": [],
   "source": [
    "age_dir = []\n",
    "for i in range(ndraw):\n",
    "    age_dir.append(nonpara_massweighted_age(dir_masses[i], time=np.unique(np.ravel(agebins)), total_mass=logmass[i]))\n",
    "    "
   ]
  },
  {
   "cell_type": "code",
   "execution_count": 886,
   "metadata": {},
   "outputs": [
    {
     "data": {
      "image/png": "[encoded data removed]",
      "text/plain": [
       "<Figure size 1152x576 with 2 Axes>"
      ]
     },
     "metadata": {
      "needs_background": "light"
     },
     "output_type": "display_data"
    }
   ],
   "source": [
    "fig, (ax1, ax2) = plt.subplots(1, 2, figsize=(16, 8))\n",
    "plt.subplots_adjust(wspace=0.04, hspace=0.05)\n",
    "\n",
    "\n",
    "\n",
    "for ax in (ax1, ax2):\n",
    "    ax.tick_params(axis='both', which='major', labelsize=15)\n",
    "    ax.tick_params(axis='both', which='minor')\n",
    "    ax.set_xlabel('Log(sSFR$_{100 \\mathrm{Myr}}$ / yr$^{-1}$)', fontsize=23)\n",
    "    ax.get_yaxis().set_ticks([])\n",
    "\n",
    "nc, bins, _ = ax1.hist(np.log10(sSFR_cont), bins=100, range=(-13, -8), histtype='step', color='crimson', lw=3)\n",
    "nb, bins, _ = ax2.hist(np.log10(sSFR_dir), bins=100, range=(-13, -8), histtype='step', color='darkorange', lw=3)\n",
    "ax1.plot([np.median(np.log10(sSFR_cont)), np.median(np.log10(sSFR_cont))], [0, 1e5], color='black', ls='--', lw=2)\n",
    "ax2.plot([np.median(np.log10(sSFR_dir)), np.median(np.log10(sSFR_dir))], [0, 1e5], color='black', ls='--', lw=2)\n",
    "\n",
    "ax1.set_ylim([0, np.max(nc)+1000])\n",
    "ax2.set_ylim([0, np.max(nb)+1000])\n",
    "ax1.set_title('Continuity', fontsize=20)\n",
    "ax2.set_title('Dirichlet', fontsize=20)\n",
    "\n",
    "plt.savefig('/Users/sidneylower/Documents/prosp_final_plots/ssfr_prior.png', dpi=300, bbox_inches='tight')"
   ]
  },
  {
   "cell_type": "code",
   "execution_count": null,
   "metadata": {},
   "outputs": [],
   "source": []
  }
 ],
 "metadata": {
  "kernelspec": {
   "display_name": "Python 3",
   "language": "python",
   "name": "python3"
  },
  "language_info": {
   "codemirror_mode": {
    "name": "ipython",
    "version": 3
   },
   "file_extension": ".py",
   "mimetype": "text/x-python",
   "name": "python",
   "nbconvert_exporter": "python",
   "pygments_lexer": "ipython3",
   "version": "3.7.5"
  }
 },
 "nbformat": 4,
 "nbformat_minor": 2
}
