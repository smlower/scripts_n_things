{
 "cells": [
  {
   "cell_type": "code",
   "execution_count": 6,
   "metadata": {},
   "outputs": [],
   "source": [
    "import numpy as np\n",
    "import matplotlib.pyplot as plt\n",
    "import prospect.io.read_results as pread\n",
    "import glob"
   ]
  },
  {
   "cell_type": "code",
   "execution_count": 7,
   "metadata": {},
   "outputs": [],
   "source": [
    "def find_nearest(array,value):\n",
    "    idx = (np.abs(np.array(array)-value)).argmin()\n",
    "    return idx"
   ]
  },
  {
   "cell_type": "code",
   "execution_count": 8,
   "metadata": {},
   "outputs": [],
   "source": [
    "def get_best(res, **kwargs):\n",
    "    \"\"\"Get the maximum a posteriori parameters.                                                                                                               \n",
    "    From prospect.utils.plotting                                                                                                                              \n",
    "    \"\"\"\n",
    "    imax = np.argmax(res['lnprobability'])\n",
    "    # there must be a more elegant way to deal with differnt shapes                                                                                           \n",
    "    try:\n",
    "        i, j = np.unravel_index(imax, res['lnprobability'].shape)\n",
    "        theta_best = res['chain'][i, j, :].copy()\n",
    "    except(ValueError):\n",
    "        theta_best = res['chain'][imax, :].copy()\n",
    "\n",
    "    theta_names = res.get('theta_labels', res['model'].theta_labels())\n",
    "    return theta_names, theta_best"
   ]
  },
  {
   "cell_type": "code",
   "execution_count": 41,
   "metadata": {},
   "outputs": [],
   "source": [
    "#attenuation from prospector\n",
    "\n",
    "gal = 93\n",
    "\n",
    "dir_file = '/Volumes/ufrc/narayanan/s.lower/simSEDs/simbam25n512_newfof/snap305_nonparametricSFH/filtered_dirichlet/snap305.galaxy'+\"{:03d}\".format(gal)+'_*.h5'\n",
    "#dirmm_file = '/Volumes/ufrc/narayanan/s.lower/simSEDs/simbam25n512_newfof/snap305_massmetal/dirichlet/snap305.galaxy'+\"{:03d}\".format(gal)+'_*.h5'\n",
    "#contmm_file = '/Volumes/ufrc/narayanan/s.lower/simSEDs/simbam25n512_newfof/snap305_massmetal/continuity/snap305.galaxy'+\"{:03d}\".format(gal)+'_*.h5'\n",
    "cont_file = '/Volumes/ufrc/narayanan/s.lower/simSEDs/simbam25n512_newfof/snap305_nonparametricSFH/filtered_cont/snap305.galaxy'+\"{:03d}\".format(gal)+'_*.h5'\n",
    "#windowz_file = '/Volumes/ufrc/narayanan/s.lower/simSEDs/simbam25n512_newfof/snap305_metal_test/snap305.galaxy'+\"{:03d}\".format(gal)+'_*.h5'\n",
    "#dust1_file = '/Volumes/ufrc/narayanan/s.lower/simSEDs/simbam25n512_newfof/snap305_nonparametricSFH/dust1_toggle/snap305.galaxy'+\"{:03d}\".format(gal)+'_*.h5'\n",
    "tau_file = '/Volumes/ufrc/narayanan/s.lower/simSEDs/simbam25n512_newfof/snap305_parametricSFH/tau/snap305.galaxy'+\"{:03d}\".format(gal)+'_*.h5'\n",
    "ultra_file = '/Volumes/ufrc/narayanan/s.lower/simSEDs/simbam25n512_newfof/snap305_ultra/reparam_noll/snap305.galaxy'+\"{:03d}\".format(gal)+'_*.h5'\n",
    "\n",
    "\n",
    "res_dir, res_cont, res_tau, res_ultra = 0, 0, 0, 0\n",
    "\n",
    "for file in glob.glob(dir_file):\n",
    "    res_dir, _, _ = pread.results_from(file)\n",
    "    \n",
    "for file in glob.glob(cont_file):\n",
    "    res_cont, _, _ = pread.results_from(file)\n",
    "    \n",
    "for file in glob.glob(tau_file):\n",
    "    res_tau, _, _ = pread.results_from(file)\n",
    "    \n",
    "for file in glob.glob(ultra_file):\n",
    "    res_ultra, _, _ = pread.results_from(file)"
   ]
  },
  {
   "cell_type": "code",
   "execution_count": 42,
   "metadata": {},
   "outputs": [],
   "source": [
    "pd_atten = np.load('/Volumes/ufrc/narayanan/s.lower/pd_runs/simba_m25n512/snap305_boxtest/attenuation_curves/attenuation_curve.305_galaxy'+str(gal)+'.npz')"
   ]
  },
  {
   "cell_type": "code",
   "execution_count": 43,
   "metadata": {},
   "outputs": [],
   "source": [
    "pd_wav = pd_atten['wav_rest']\n",
    "pd_tau = pd_atten['tau']\n",
    "\n",
    "pd_V = find_nearest(pd_wav, 0.55)"
   ]
  },
  {
   "cell_type": "code",
   "execution_count": 44,
   "metadata": {},
   "outputs": [],
   "source": [
    "sps_dir = pread.get_sps(res_dir)\n",
    "thetas_dir, theta_best_dir = get_best(res_dir)\n",
    "dust2_idx_dir = [i for i, s in enumerate(thetas_dir) if 'dust2' in s]\n",
    "dust2_dir = theta_best_dir[dust2_idx_dir[0]]\n",
    "dustindex_idx_dir = [i for i, s in enumerate(thetas_dir) if 'dust_index' in s]\n",
    "dust_index_dir = theta_best_dir[dustindex_idx_dir[0]]\n"
   ]
  },
  {
   "cell_type": "code",
   "execution_count": 45,
   "metadata": {},
   "outputs": [],
   "source": [
    "sps_cont = pread.get_sps(res_cont)\n",
    "thetas_cont, theta_best_cont = get_best(res_cont)\n",
    "dust2_idx_cont = [i for i, s in enumerate(thetas_cont) if 'dust2' in s]\n",
    "dust2_cont = theta_best_cont[dust2_idx_cont[0]]\n",
    "dustindex_idx_cont = [i for i, s in enumerate(thetas_cont) if 'dust_index' in s]\n",
    "dust_index_cont = theta_best_cont[dustindex_idx_cont[0]]"
   ]
  },
  {
   "cell_type": "code",
   "execution_count": 46,
   "metadata": {},
   "outputs": [],
   "source": [
    "sps_ultra = pread.get_sps(res_ultra)\n",
    "thetas_ultra, theta_best_ultra = get_best(res_ultra)\n",
    "dust2_idx_ultra = [i for i, s in enumerate(thetas_ultra) if 'dust2' in s]\n",
    "dust2_ultra = theta_best_ultra[dust2_idx_ultra[0]]\n",
    "uvb_idx_ultra = [i for i, s in enumerate(thetas_ultra) if 'uvb' in s]\n",
    "uvb_ultra = theta_best_ultra[uvb_idx_ultra[0]]\n",
    "dustindex_idx_ultra = [i for i, s in enumerate(thetas_ultra) if 'dust_index' in s]\n",
    "dust_index_ultra = theta_best_ultra[dustindex_idx_ultra[0]]"
   ]
  },
  {
   "cell_type": "code",
   "execution_count": 47,
   "metadata": {},
   "outputs": [],
   "source": [
    "sps_tau = pread.get_sps(res_tau)\n",
    "thetas_tau, theta_best_tau = get_best(res_tau)\n",
    "dust2_idx_tau = [i for i, s in enumerate(thetas_tau) if 'dust2' in s]\n",
    "dust2_tau = theta_best_tau[dust2_idx_tau[0]]\n",
    "dustindex_idx_tau = [i for i, s in enumerate(thetas_tau) if 'dust_index' in s]\n",
    "dust_index_tau = theta_best_tau[dustindex_idx_tau[0]]"
   ]
  },
  {
   "cell_type": "code",
   "execution_count": 48,
   "metadata": {},
   "outputs": [],
   "source": [
    "#global attn curve params\n",
    "dd63=6300.00\n",
    "lamv=5500.0\n",
    "dlam=350.0\n",
    "lamuvb=2175.0"
   ]
  },
  {
   "cell_type": "code",
   "execution_count": 49,
   "metadata": {},
   "outputs": [],
   "source": [
    "def Cardelli_conroyparam(lam, mwr, uvb):\n",
    "    x = 1e4 / lam\n",
    "    y = x - 1.82\n",
    "    a = np.empty(len(x))\n",
    "    b = np.empty(len(x))\n",
    "    attn_curve = np.empty(len(x))\n",
    "    for i in range(len(x)):\n",
    "        #print(x[i])\n",
    "        if x[i] < 1.1:\n",
    "            a[i] = 0.574*x[i]**(1.61)\n",
    "            b[i] = ((-0.527*x[i]**(1.61)) / mwr)\n",
    "        elif x[i] < 3.3:\n",
    "            a[i] = 1 + 0.177*y[i] - 0.594*y[i]**2 - 0.0243*y[i]**3 + 0.721*y[i]**4 + 0.0198*y[i]**5 - 0.775*y[i]**6 + 0.33*y[i]**7\n",
    "            b[i] = (1.413*y[i] + 2.283*y[i]**2 + 1.072*y[i]**3 - 5.385*y[i]**4 - 0.622*y[i]**5 + 5.303*y[i]**6 - 2.09*y[i]**7) / mwr\n",
    "        elif x[i] < 5.9:\n",
    "            f_a = (3.3 / x[i])**6 * (-0.037 + 0.0469*uvb - (0.601*uvb / mwr) + 0.542/mwr)\n",
    "            a[i] = 1.752 - 0.316*x[i] - (0.104*uvb / ((x[i] - 4.67)**2 + 0.341)) + f_a\n",
    "            b[i] = ((-3.09 + 1.825*x[i] + (1.206*uvb / ((x[i] - 4.62)**2 + 0.263))) / mwr)\n",
    "        elif x[i] < 8.:\n",
    "            f_a = -0.0447 * (x[i] - 5.9)**2 - 0.00978*(x[i]-5.9)**3\n",
    "            f_b = 0.213*(x[i]-5.9)**2 + 0.121 * (x[i]-5.9)**3\n",
    "            a[i] = (1.752 - 0.316*x[i] - (0.104*uvb / ((x[i] - 4.67)**2 + 0.341)) + f_a)\n",
    "            b[i] = ((-3.09 + 1.825*x[i] + (1.206*uvb / ((x[i] - 4.62)**2 + 0.263)) + f_b) / mwr)\n",
    "    \n",
    "    \n",
    "    for i in range(len(x)):\n",
    "        attn_curve[i] = (a[i] + b[i])\n",
    "        \n",
    "    \n",
    "    return attn_curve"
   ]
  },
  {
   "cell_type": "code",
   "execution_count": 50,
   "metadata": {},
   "outputs": [],
   "source": [
    "def Cardelli_fspsparam(lam, dust2, mwr, uvb):\n",
    "    x = 1e4 / lam\n",
    "    y = x - 1.82\n",
    "    a = np.empty(len(x))\n",
    "    b = np.empty(len(x))\n",
    "    attn_curve = np.empty(len(x))\n",
    "    for i in range(len(x)):\n",
    "        \n",
    "        \n",
    "        \n",
    "        if x[i] > 12.: #far far UV?\n",
    "            a[i] = -1.073 - 0.628*(12.-8.)+0.137*(12.-8.)**2-0.070*(12.-8.)**3\n",
    "            b[i] = (13.67+4.257*(12.-8.)-0.42*(12.-8.)**2+0.374*(12.-8.)**3) / mwr\n",
    "        elif x[i] > 8.: #far UV\n",
    "            a[i] = -1.073-0.628*(x[i]-8.)+0.137*(x[i]-8.)**2-0.070*(x[i]-8.)**3\n",
    "            b[i] = (13.67+4.257*(x[i]-8.)-0.42*(x[i]-8.)**2+0.374*(x[i]-8.)**3) / mwr\n",
    "        elif x[i] > 5.9: #mid-UV\n",
    "            f_a = -0.04473*(x[i]-5.9)**2-0.009779*(x[i]-5.9)**3\n",
    "            f_b =  0.2130*(x[i]-5.9)**2+0.1207*(x[i]-5.9)**3\n",
    "            a[i]  = 1.752-0.316*x[i]-0.104/((x[i]-4.67)**2+0.341)*uvb + f_a\n",
    "            b[i]  = (-3.09+1.825*x[i]+1.206/((x[i]-4.62)**2+0.263)*uvb + f_b) / mwr\n",
    "             \n",
    "        elif x[i] > 3.3: #near UV\n",
    "            f_a = (3.3/x[i])**6.*(-0.037 + 0.0469*uvb - (0.601*uvb / mwr) + 0.542/mwr)\n",
    "            a[i] = 1.752-0.316*x[i]-0.104/((x[i]-4.67)**2+0.341)*uvb + f_a\n",
    "            b[i] = (-3.09+1.825*x[i]+1.206/((x[i]-4.62)**2+0.263)*uvb ) / mwr\n",
    "            \n",
    "        elif x[i] > 1.1: #optical - NIR   \n",
    "            a[i] = 1 + 0.177*y[i] - 0.50477*y[i]**2 - 0.0243*y[i]**3 + 0.721*y[i]**4 + 0.0198*y[i]**5 - 0.7753*y[i]**6 + 0.33*y[i]**7\n",
    "            b[i] = (1.4134*y[i] + 2.283*y[i]**2 + 1.072*y[i]**3 - 5.385*y[i]**4 - 0.6225*y[i]**5 + 5.303*y[i]**6 - 2.09*y[i]**7) / mwr\n",
    "        elif x[i] > 0.1:\n",
    "            a[i] = 0.574*x[i]**1.61\n",
    "            b[i] = (-0.527*x[i]**1.61) / mwr\n",
    "    \n",
    "    \n",
    "    for i in range(len(x)):\n",
    "        attn_curve[i] = (a[i] + b[i])\n",
    "        \n",
    "    \n",
    "    return attn_curve*dust2\n",
    "    \n",
    "    \n",
    "    \n",
    "    "
   ]
  },
  {
   "cell_type": "code",
   "execution_count": 51,
   "metadata": {},
   "outputs": [],
   "source": [
    "def Kriek_Conroy(lam, dust2, dust_index): \n",
    "    w63 = find_nearest(lam,dd63)\n",
    "    cal00 = np.zeros(np.shape(lam)[0])\n",
    "    for i in range(w63, np.shape(lam)[0]):\n",
    "        cal00[i] = 1.17*( -1.857+1.04*(1.0e4/lam[i])) + 1.78 \n",
    "    for i in range(0, w63):\n",
    "        cal00[i]= 1.17*(-2.156+1.509*(1.0e4/lam[i]) -0.198*(1.0e4/lam[i])**2 + 0.011*(1.0e4/lam[i])**3) + 1.78\n",
    "    #R=4.05 NB: I'm not sure I have this normalization correct...                                                                                            \n",
    "    cal00 = (cal00/0.44/4.05)\n",
    "\n",
    "    eb = 0.85 - (1.9 * dust_index)  #KC13 Eqn 3                                                                                                           \n",
    "\n",
    "    #Drude profile for 2175A bump                                                                                                                            \n",
    "    drude = eb*(lam*dlam)**2 / ( (lam**2-lamuvb**2)**2 + (lam*dlam)**2 )\n",
    "\n",
    "    attn_curve = dust2*(cal00+drude/4.05)*(lam/lamv)**dust_index\n",
    "\n",
    "    return attn_curve\n",
    "\n"
   ]
  },
  {
   "cell_type": "code",
   "execution_count": 52,
   "metadata": {},
   "outputs": [],
   "source": [
    "def Noll09(lam, dust2, dust_index, uvb): \n",
    "    w63 = find_nearest(lam,dd63)\n",
    "    cal00 = np.zeros(np.shape(lam)[0])\n",
    "    for i in range(w63, np.shape(lam)[0]):\n",
    "        cal00[i] = 1.17*( -1.857+1.04*(1.0e4/lam[i])) + 1.78 \n",
    "    for i in range(0, w63):\n",
    "        cal00[i]= 1.17*(-2.156+1.509*(1.0e4/lam[i]) -0.198*(1.0e4/lam[i])**2 + 0.011*(1.0e4/lam[i])**3) + 1.78\n",
    "    #R=4.05 NB: I'm not sure I have this normalization correct...                                                                                            \n",
    "    cal00 = (cal00/0.44/4.05)\n",
    "\n",
    "    eb = uvb                                                                                                          \n",
    "\n",
    "    #Drude profile for 2175A bump                                                                                                                            \n",
    "    drude = eb*(lam*dlam)**2 / ( (lam**2-lamuvb**2)**2 + (lam*dlam)**2 )\n",
    "\n",
    "    attn_curve = dust2*(cal00+drude/4.05)*(lam/lamv)**dust_index\n",
    "\n",
    "    return attn_curve"
   ]
  },
  {
   "cell_type": "code",
   "execution_count": 53,
   "metadata": {},
   "outputs": [],
   "source": [
    "def Calzetti(lam, dust2):\n",
    "    w63 = find_nearest(lam,dd63)\n",
    "    cal00 = np.zeros(np.shape(lam)[0])\n",
    "    for i in range(w63, np.shape(lam)[0]):\n",
    "        cal00[i] = 1.17*( -1.857+1.04*(1.0e4/lam[i])) + 1.78\n",
    "    for i in range(0, w63):\n",
    "        cal00[i]= 1.17*(-2.156+1.509*(1.0e4/lam[i]) -0.198*(1.0e4/lam[i])**2 + 0.011*(1.0e4/lam[i])**3) + 1.78\n",
    "    #R=4.05 NB: I'm not sure I have this normalization correct...                                                                                            \n",
    "    cal00 = cal00/0.44/4.05\n",
    "    \n",
    "    attn_curve = cal00 * dust2\n",
    "    \n",
    "    return attn_curve"
   ]
  },
  {
   "cell_type": "code",
   "execution_count": 54,
   "metadata": {},
   "outputs": [],
   "source": [
    "wav = np.linspace(100, 15000, 10000)\n",
    "wav5500 = np.full(len(wav), 5500)"
   ]
  },
  {
   "cell_type": "code",
   "execution_count": 55,
   "metadata": {},
   "outputs": [],
   "source": [
    "curve_dir = Kriek_Conroy(wav, dust2_dir, dust_index_dir) / Kriek_Conroy(wav5500, dust2_dir, dust_index_dir)\n",
    "curve_cont = Kriek_Conroy(wav, dust2_cont, dust_index_cont) / Kriek_Conroy(wav5500, dust2_cont, dust_index_cont)\n",
    "curve_ultra = Noll09(wav, dust2_ultra, dust_index_ultra, uvb_ultra) / Noll09(wav5500, dust2_ultra, dust_index_ultra, uvb_ultra)\n",
    "curve_tau = Kriek_Conroy(wav, dust2_tau, dust_index_tau) / Kriek_Conroy(wav5500, dust2_tau, dust_index_tau)\n",
    "\n"
   ]
  },
  {
   "cell_type": "code",
   "execution_count": 56,
   "metadata": {},
   "outputs": [
    {
     "data": {
      "image/png": "[encoded data removed]",
      "text/plain": [
       "<Figure size 720x576 with 1 Axes>"
      ]
     },
     "metadata": {
      "needs_background": "light"
     },
     "output_type": "display_data"
    }
   ],
   "source": [
    "plt.figure(figsize=(10, 8))\n",
    "plt.rc('axes', linewidth=2)\n",
    "plt.tick_params(axis='both', which='major', width=2, length=6, labelsize=15)\n",
    "plt.tick_params(axis='both', which='minor', width=2, length=4)\n",
    "\n",
    "\n",
    "\n",
    "\n",
    "plt.plot(wav, curve_dir, color='darkorange', lw=3, label='Dirichlet')\n",
    "plt.plot(wav, curve_cont, color='crimson', alpha=0.7, ls='--', lw=3, label='Continuity')\n",
    "plt.plot(wav, curve_ultra, color='lightgreen', alpha=0.7, lw=3, label='Ultra (Noll)')\n",
    "plt.plot(wav, curve_tau, color='midnightblue', alpha=0.7, lw=3, label=r'$\\tau$')\n",
    "plt.plot(pd_wav*1.0e4, (2.5*np.log10(np.exp(pd_tau[0])))/(2.5*np.log10(np.exp(pd_tau[0][find_nearest(pd_wav, 0.55)]))), color='black', lw=1., label='True Attenuation')\n",
    "\n",
    "plt.yscale('log')\n",
    "\n",
    "#plt.xscale('log')\n",
    "plt.xlim([900, 7000])\n",
    "plt.xlabel('$\\lambda$ [$\\AA$]', fontsize=23)\n",
    "plt.ylim([1e-1, 10])\n",
    "plt.ylabel('A$_{\\lambda}$ / A$_{V}$', fontsize=23)\n",
    "plt.legend(loc='best', fontsize=15)\n",
    "plt.title('Galaxy '+str(gal)+': KC Attenuation', fontsize=23)\n",
    "\n",
    "#plt.show()\n",
    "plt.savefig('/Users/sidneylower/Documents/prosp_final_plots/attenuation_curve'+str(gal)+'_old.png', dpi=300)"
   ]
  },
  {
   "cell_type": "code",
   "execution_count": null,
   "metadata": {},
   "outputs": [],
   "source": []
  }
 ],
 "metadata": {
  "kernelspec": {
   "display_name": "Python 3",
   "language": "python",
   "name": "python3"
  },
  "language_info": {
   "codemirror_mode": {
    "name": "ipython",
    "version": 3
   },
   "file_extension": ".py",
   "mimetype": "text/x-python",
   "name": "python",
   "nbconvert_exporter": "python",
   "pygments_lexer": "ipython3",
   "version": "3.7.3"
  }
 },
 "nbformat": 4,
 "nbformat_minor": 2
}
