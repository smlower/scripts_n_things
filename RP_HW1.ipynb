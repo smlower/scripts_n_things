{
 "cells": [
  {
   "cell_type": "code",
   "execution_count": 3,
   "metadata": {},
   "outputs": [],
   "source": [
    "import numpy as np"
   ]
  },
  {
   "cell_type": "code",
   "execution_count": 20,
   "metadata": {},
   "outputs": [
    {
     "name": "stdout",
     "output_type": "stream",
     "text": [
      "nroot =  1.65793149591438e-11\n"
     ]
    }
   ],
   "source": [
    "#derivative function\n",
    "#takes function with even spacing and finds derivative\n",
    "def derivative(func,xi,xf,h):\n",
    "    return (func(xi+h)-func(xi-h))/(2*h)\n",
    "\n",
    "#Newton Rapshon Function\n",
    "#takes function and finds where the derivative passes y=0\n",
    "def NR(func,xi,xf,h):\n",
    "    return xi - (func(xi) / derivative(func, xi, xf, h)) \n",
    "\n",
    "def dBdnu(x): \n",
    "    return 3*(np.exp(x) - 1) - x*np.exp(x)\n",
    "\n",
    "\n",
    "#calculate the root with bisection\n",
    "\n",
    "nrroot = NR(dBdnu,1e-5, 100, 0.1)\n",
    "\n",
    "\n",
    "print('nroot = ',nrroot)"
   ]
  },
  {
   "cell_type": "code",
   "execution_count": 6,
   "metadata": {},
   "outputs": [],
   "source": [
    "h = 6.6262e-27\n",
    "k = 1.3803e-16"
   ]
  },
  {
   "cell_type": "code",
   "execution_count": 7,
   "metadata": {},
   "outputs": [
    {
     "data": {
      "text/plain": [
       "2127665187.8393197"
      ]
     },
     "execution_count": 7,
     "metadata": {},
     "output_type": "execute_result"
    }
   ],
   "source": [
    "(k*nrroot / h)"
   ]
  },
  {
   "cell_type": "code",
   "execution_count": null,
   "metadata": {},
   "outputs": [],
   "source": []
  }
 ],
 "metadata": {
  "kernelspec": {
   "display_name": "Python 3",
   "language": "python",
   "name": "python3"
  },
  "language_info": {
   "codemirror_mode": {
    "name": "ipython",
    "version": 3
   },
   "file_extension": ".py",
   "mimetype": "text/x-python",
   "name": "python",
   "nbconvert_exporter": "python",
   "pygments_lexer": "ipython3",
   "version": "3.7.4"
  }
 },
 "nbformat": 4,
 "nbformat_minor": 4
}
