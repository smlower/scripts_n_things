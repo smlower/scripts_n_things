{
 "cells": [
  {
   "cell_type": "code",
   "execution_count": 84,
   "metadata": {},
   "outputs": [],
   "source": [
    "from prospect.models import priors\n",
    "import scipy.stats\n",
    "import matplotlib.pyplot as plt\n",
    "import numpy as np\n",
    "import scipy"
   ]
  },
  {
   "cell_type": "code",
   "execution_count": 23,
   "metadata": {},
   "outputs": [],
   "source": [
    "a = priors.Beta(alpha=1.0, beta=1.0, mini=0., maxi=1.0)"
   ]
  },
  {
   "cell_type": "code",
   "execution_count": 26,
   "metadata": {},
   "outputs": [],
   "source": [
    "x = np.arange(0, 1, 0.01)"
   ]
  },
  {
   "cell_type": "code",
   "execution_count": 37,
   "metadata": {},
   "outputs": [],
   "source": [
    "b = scipy.stats.beta.pdf(x, a=1.0, b=1.0)"
   ]
  },
  {
   "cell_type": "code",
   "execution_count": 188,
   "metadata": {},
   "outputs": [
    {
     "data": {
      "text/plain": [
       "[<matplotlib.lines.Line2D at 0x1b6119df90>]"
      ]
     },
     "execution_count": 188,
     "metadata": {},
     "output_type": "execute_result"
    },
    {
     "data": {
      "image/png": "[encoded data removed]",
      "text/plain": [
       "<Figure size 432x288 with 1 Axes>"
      ]
     },
     "metadata": {
      "needs_background": "light"
     },
     "output_type": "display_data"
    }
   ],
   "source": [
    "plt.plot(x, )"
   ]
  },
  {
   "cell_type": "code",
   "execution_count": 104,
   "metadata": {},
   "outputs": [],
   "source": [
    "agelims_gyr = np.array([1e-9, 0.1, 0.5, 1.0, 2.0, 3.0, 4.5, 6.0, 8.0, 10.5, 13.8])\n",
    "agelims = np.asarray(agelims_gyr * 1.0e9)"
   ]
  },
  {
   "cell_type": "code",
   "execution_count": 107,
   "metadata": {},
   "outputs": [],
   "source": [
    "time_in_each_bin = np.diff(agelims, axis=-1)"
   ]
  },
  {
   "cell_type": "code",
   "execution_count": 108,
   "metadata": {},
   "outputs": [
    {
     "data": {
      "text/plain": [
       "array([9.9999999e+07, 4.0000000e+08, 5.0000000e+08, 1.0000000e+09,\n",
       "       1.0000000e+09, 1.5000000e+09, 1.5000000e+09, 2.0000000e+09,\n",
       "       2.5000000e+09, 3.3000000e+09])"
      ]
     },
     "execution_count": 108,
     "metadata": {},
     "output_type": "execute_result"
    }
   ],
   "source": [
    "time_in_each_bin"
   ]
  },
  {
   "cell_type": "code",
   "execution_count": 75,
   "metadata": {},
   "outputs": [],
   "source": [
    "bottom = []\n",
    "for i in range(len(time_in_each_bin)):\n",
    "    bottom.append(time_in_each_bin[i] * b)"
   ]
  },
  {
   "cell_type": "code",
   "execution_count": 76,
   "metadata": {},
   "outputs": [
    {
     "data": {
      "text/plain": [
       "[array([99999999., 99999999., 99999999., 99999999., 99999999., 99999999.,\n",
       "        99999999., 99999999., 99999999., 99999999., 99999999., 99999999.,\n",
       "        99999999., 99999999., 99999999., 99999999., 99999999., 99999999.,\n",
       "        99999999., 99999999., 99999999., 99999999., 99999999., 99999999.,\n",
       "        99999999., 99999999., 99999999., 99999999., 99999999., 99999999.,\n",
       "        99999999., 99999999., 99999999., 99999999., 99999999., 99999999.,\n",
       "        99999999., 99999999., 99999999., 99999999., 99999999., 99999999.,\n",
       "        99999999., 99999999., 99999999., 99999999., 99999999., 99999999.,\n",
       "        99999999., 99999999., 99999999., 99999999., 99999999., 99999999.,\n",
       "        99999999., 99999999., 99999999., 99999999., 99999999., 99999999.,\n",
       "        99999999., 99999999., 99999999., 99999999., 99999999., 99999999.,\n",
       "        99999999., 99999999., 99999999., 99999999., 99999999., 99999999.,\n",
       "        99999999., 99999999., 99999999., 99999999., 99999999., 99999999.,\n",
       "        99999999., 99999999., 99999999., 99999999., 99999999., 99999999.,\n",
       "        99999999., 99999999., 99999999., 99999999., 99999999., 99999999.,\n",
       "        99999999., 99999999., 99999999., 99999999., 99999999., 99999999.,\n",
       "        99999999., 99999999., 99999999., 99999999.]),\n",
       " array([4.e+08, 4.e+08, 4.e+08, 4.e+08, 4.e+08, 4.e+08, 4.e+08, 4.e+08,\n",
       "        4.e+08, 4.e+08, 4.e+08, 4.e+08, 4.e+08, 4.e+08, 4.e+08, 4.e+08,\n",
       "        4.e+08, 4.e+08, 4.e+08, 4.e+08, 4.e+08, 4.e+08, 4.e+08, 4.e+08,\n",
       "        4.e+08, 4.e+08, 4.e+08, 4.e+08, 4.e+08, 4.e+08, 4.e+08, 4.e+08,\n",
       "        4.e+08, 4.e+08, 4.e+08, 4.e+08, 4.e+08, 4.e+08, 4.e+08, 4.e+08,\n",
       "        4.e+08, 4.e+08, 4.e+08, 4.e+08, 4.e+08, 4.e+08, 4.e+08, 4.e+08,\n",
       "        4.e+08, 4.e+08, 4.e+08, 4.e+08, 4.e+08, 4.e+08, 4.e+08, 4.e+08,\n",
       "        4.e+08, 4.e+08, 4.e+08, 4.e+08, 4.e+08, 4.e+08, 4.e+08, 4.e+08,\n",
       "        4.e+08, 4.e+08, 4.e+08, 4.e+08, 4.e+08, 4.e+08, 4.e+08, 4.e+08,\n",
       "        4.e+08, 4.e+08, 4.e+08, 4.e+08, 4.e+08, 4.e+08, 4.e+08, 4.e+08,\n",
       "        4.e+08, 4.e+08, 4.e+08, 4.e+08, 4.e+08, 4.e+08, 4.e+08, 4.e+08,\n",
       "        4.e+08, 4.e+08, 4.e+08, 4.e+08, 4.e+08, 4.e+08, 4.e+08, 4.e+08,\n",
       "        4.e+08, 4.e+08, 4.e+08, 4.e+08]),\n",
       " array([5.e+08, 5.e+08, 5.e+08, 5.e+08, 5.e+08, 5.e+08, 5.e+08, 5.e+08,\n",
       "        5.e+08, 5.e+08, 5.e+08, 5.e+08, 5.e+08, 5.e+08, 5.e+08, 5.e+08,\n",
       "        5.e+08, 5.e+08, 5.e+08, 5.e+08, 5.e+08, 5.e+08, 5.e+08, 5.e+08,\n",
       "        5.e+08, 5.e+08, 5.e+08, 5.e+08, 5.e+08, 5.e+08, 5.e+08, 5.e+08,\n",
       "        5.e+08, 5.e+08, 5.e+08, 5.e+08, 5.e+08, 5.e+08, 5.e+08, 5.e+08,\n",
       "        5.e+08, 5.e+08, 5.e+08, 5.e+08, 5.e+08, 5.e+08, 5.e+08, 5.e+08,\n",
       "        5.e+08, 5.e+08, 5.e+08, 5.e+08, 5.e+08, 5.e+08, 5.e+08, 5.e+08,\n",
       "        5.e+08, 5.e+08, 5.e+08, 5.e+08, 5.e+08, 5.e+08, 5.e+08, 5.e+08,\n",
       "        5.e+08, 5.e+08, 5.e+08, 5.e+08, 5.e+08, 5.e+08, 5.e+08, 5.e+08,\n",
       "        5.e+08, 5.e+08, 5.e+08, 5.e+08, 5.e+08, 5.e+08, 5.e+08, 5.e+08,\n",
       "        5.e+08, 5.e+08, 5.e+08, 5.e+08, 5.e+08, 5.e+08, 5.e+08, 5.e+08,\n",
       "        5.e+08, 5.e+08, 5.e+08, 5.e+08, 5.e+08, 5.e+08, 5.e+08, 5.e+08,\n",
       "        5.e+08, 5.e+08, 5.e+08, 5.e+08]),\n",
       " array([1.e+09, 1.e+09, 1.e+09, 1.e+09, 1.e+09, 1.e+09, 1.e+09, 1.e+09,\n",
       "        1.e+09, 1.e+09, 1.e+09, 1.e+09, 1.e+09, 1.e+09, 1.e+09, 1.e+09,\n",
       "        1.e+09, 1.e+09, 1.e+09, 1.e+09, 1.e+09, 1.e+09, 1.e+09, 1.e+09,\n",
       "        1.e+09, 1.e+09, 1.e+09, 1.e+09, 1.e+09, 1.e+09, 1.e+09, 1.e+09,\n",
       "        1.e+09, 1.e+09, 1.e+09, 1.e+09, 1.e+09, 1.e+09, 1.e+09, 1.e+09,\n",
       "        1.e+09, 1.e+09, 1.e+09, 1.e+09, 1.e+09, 1.e+09, 1.e+09, 1.e+09,\n",
       "        1.e+09, 1.e+09, 1.e+09, 1.e+09, 1.e+09, 1.e+09, 1.e+09, 1.e+09,\n",
       "        1.e+09, 1.e+09, 1.e+09, 1.e+09, 1.e+09, 1.e+09, 1.e+09, 1.e+09,\n",
       "        1.e+09, 1.e+09, 1.e+09, 1.e+09, 1.e+09, 1.e+09, 1.e+09, 1.e+09,\n",
       "        1.e+09, 1.e+09, 1.e+09, 1.e+09, 1.e+09, 1.e+09, 1.e+09, 1.e+09,\n",
       "        1.e+09, 1.e+09, 1.e+09, 1.e+09, 1.e+09, 1.e+09, 1.e+09, 1.e+09,\n",
       "        1.e+09, 1.e+09, 1.e+09, 1.e+09, 1.e+09, 1.e+09, 1.e+09, 1.e+09,\n",
       "        1.e+09, 1.e+09, 1.e+09, 1.e+09]),\n",
       " array([1.e+09, 1.e+09, 1.e+09, 1.e+09, 1.e+09, 1.e+09, 1.e+09, 1.e+09,\n",
       "        1.e+09, 1.e+09, 1.e+09, 1.e+09, 1.e+09, 1.e+09, 1.e+09, 1.e+09,\n",
       "        1.e+09, 1.e+09, 1.e+09, 1.e+09, 1.e+09, 1.e+09, 1.e+09, 1.e+09,\n",
       "        1.e+09, 1.e+09, 1.e+09, 1.e+09, 1.e+09, 1.e+09, 1.e+09, 1.e+09,\n",
       "        1.e+09, 1.e+09, 1.e+09, 1.e+09, 1.e+09, 1.e+09, 1.e+09, 1.e+09,\n",
       "        1.e+09, 1.e+09, 1.e+09, 1.e+09, 1.e+09, 1.e+09, 1.e+09, 1.e+09,\n",
       "        1.e+09, 1.e+09, 1.e+09, 1.e+09, 1.e+09, 1.e+09, 1.e+09, 1.e+09,\n",
       "        1.e+09, 1.e+09, 1.e+09, 1.e+09, 1.e+09, 1.e+09, 1.e+09, 1.e+09,\n",
       "        1.e+09, 1.e+09, 1.e+09, 1.e+09, 1.e+09, 1.e+09, 1.e+09, 1.e+09,\n",
       "        1.e+09, 1.e+09, 1.e+09, 1.e+09, 1.e+09, 1.e+09, 1.e+09, 1.e+09,\n",
       "        1.e+09, 1.e+09, 1.e+09, 1.e+09, 1.e+09, 1.e+09, 1.e+09, 1.e+09,\n",
       "        1.e+09, 1.e+09, 1.e+09, 1.e+09, 1.e+09, 1.e+09, 1.e+09, 1.e+09,\n",
       "        1.e+09, 1.e+09, 1.e+09, 1.e+09]),\n",
       " array([1.5e+09, 1.5e+09, 1.5e+09, 1.5e+09, 1.5e+09, 1.5e+09, 1.5e+09,\n",
       "        1.5e+09, 1.5e+09, 1.5e+09, 1.5e+09, 1.5e+09, 1.5e+09, 1.5e+09,\n",
       "        1.5e+09, 1.5e+09, 1.5e+09, 1.5e+09, 1.5e+09, 1.5e+09, 1.5e+09,\n",
       "        1.5e+09, 1.5e+09, 1.5e+09, 1.5e+09, 1.5e+09, 1.5e+09, 1.5e+09,\n",
       "        1.5e+09, 1.5e+09, 1.5e+09, 1.5e+09, 1.5e+09, 1.5e+09, 1.5e+09,\n",
       "        1.5e+09, 1.5e+09, 1.5e+09, 1.5e+09, 1.5e+09, 1.5e+09, 1.5e+09,\n",
       "        1.5e+09, 1.5e+09, 1.5e+09, 1.5e+09, 1.5e+09, 1.5e+09, 1.5e+09,\n",
       "        1.5e+09, 1.5e+09, 1.5e+09, 1.5e+09, 1.5e+09, 1.5e+09, 1.5e+09,\n",
       "        1.5e+09, 1.5e+09, 1.5e+09, 1.5e+09, 1.5e+09, 1.5e+09, 1.5e+09,\n",
       "        1.5e+09, 1.5e+09, 1.5e+09, 1.5e+09, 1.5e+09, 1.5e+09, 1.5e+09,\n",
       "        1.5e+09, 1.5e+09, 1.5e+09, 1.5e+09, 1.5e+09, 1.5e+09, 1.5e+09,\n",
       "        1.5e+09, 1.5e+09, 1.5e+09, 1.5e+09, 1.5e+09, 1.5e+09, 1.5e+09,\n",
       "        1.5e+09, 1.5e+09, 1.5e+09, 1.5e+09, 1.5e+09, 1.5e+09, 1.5e+09,\n",
       "        1.5e+09, 1.5e+09, 1.5e+09, 1.5e+09, 1.5e+09, 1.5e+09, 1.5e+09,\n",
       "        1.5e+09, 1.5e+09]),\n",
       " array([1.5e+09, 1.5e+09, 1.5e+09, 1.5e+09, 1.5e+09, 1.5e+09, 1.5e+09,\n",
       "        1.5e+09, 1.5e+09, 1.5e+09, 1.5e+09, 1.5e+09, 1.5e+09, 1.5e+09,\n",
       "        1.5e+09, 1.5e+09, 1.5e+09, 1.5e+09, 1.5e+09, 1.5e+09, 1.5e+09,\n",
       "        1.5e+09, 1.5e+09, 1.5e+09, 1.5e+09, 1.5e+09, 1.5e+09, 1.5e+09,\n",
       "        1.5e+09, 1.5e+09, 1.5e+09, 1.5e+09, 1.5e+09, 1.5e+09, 1.5e+09,\n",
       "        1.5e+09, 1.5e+09, 1.5e+09, 1.5e+09, 1.5e+09, 1.5e+09, 1.5e+09,\n",
       "        1.5e+09, 1.5e+09, 1.5e+09, 1.5e+09, 1.5e+09, 1.5e+09, 1.5e+09,\n",
       "        1.5e+09, 1.5e+09, 1.5e+09, 1.5e+09, 1.5e+09, 1.5e+09, 1.5e+09,\n",
       "        1.5e+09, 1.5e+09, 1.5e+09, 1.5e+09, 1.5e+09, 1.5e+09, 1.5e+09,\n",
       "        1.5e+09, 1.5e+09, 1.5e+09, 1.5e+09, 1.5e+09, 1.5e+09, 1.5e+09,\n",
       "        1.5e+09, 1.5e+09, 1.5e+09, 1.5e+09, 1.5e+09, 1.5e+09, 1.5e+09,\n",
       "        1.5e+09, 1.5e+09, 1.5e+09, 1.5e+09, 1.5e+09, 1.5e+09, 1.5e+09,\n",
       "        1.5e+09, 1.5e+09, 1.5e+09, 1.5e+09, 1.5e+09, 1.5e+09, 1.5e+09,\n",
       "        1.5e+09, 1.5e+09, 1.5e+09, 1.5e+09, 1.5e+09, 1.5e+09, 1.5e+09,\n",
       "        1.5e+09, 1.5e+09]),\n",
       " array([2.e+09, 2.e+09, 2.e+09, 2.e+09, 2.e+09, 2.e+09, 2.e+09, 2.e+09,\n",
       "        2.e+09, 2.e+09, 2.e+09, 2.e+09, 2.e+09, 2.e+09, 2.e+09, 2.e+09,\n",
       "        2.e+09, 2.e+09, 2.e+09, 2.e+09, 2.e+09, 2.e+09, 2.e+09, 2.e+09,\n",
       "        2.e+09, 2.e+09, 2.e+09, 2.e+09, 2.e+09, 2.e+09, 2.e+09, 2.e+09,\n",
       "        2.e+09, 2.e+09, 2.e+09, 2.e+09, 2.e+09, 2.e+09, 2.e+09, 2.e+09,\n",
       "        2.e+09, 2.e+09, 2.e+09, 2.e+09, 2.e+09, 2.e+09, 2.e+09, 2.e+09,\n",
       "        2.e+09, 2.e+09, 2.e+09, 2.e+09, 2.e+09, 2.e+09, 2.e+09, 2.e+09,\n",
       "        2.e+09, 2.e+09, 2.e+09, 2.e+09, 2.e+09, 2.e+09, 2.e+09, 2.e+09,\n",
       "        2.e+09, 2.e+09, 2.e+09, 2.e+09, 2.e+09, 2.e+09, 2.e+09, 2.e+09,\n",
       "        2.e+09, 2.e+09, 2.e+09, 2.e+09, 2.e+09, 2.e+09, 2.e+09, 2.e+09,\n",
       "        2.e+09, 2.e+09, 2.e+09, 2.e+09, 2.e+09, 2.e+09, 2.e+09, 2.e+09,\n",
       "        2.e+09, 2.e+09, 2.e+09, 2.e+09, 2.e+09, 2.e+09, 2.e+09, 2.e+09,\n",
       "        2.e+09, 2.e+09, 2.e+09, 2.e+09]),\n",
       " array([2.5e+09, 2.5e+09, 2.5e+09, 2.5e+09, 2.5e+09, 2.5e+09, 2.5e+09,\n",
       "        2.5e+09, 2.5e+09, 2.5e+09, 2.5e+09, 2.5e+09, 2.5e+09, 2.5e+09,\n",
       "        2.5e+09, 2.5e+09, 2.5e+09, 2.5e+09, 2.5e+09, 2.5e+09, 2.5e+09,\n",
       "        2.5e+09, 2.5e+09, 2.5e+09, 2.5e+09, 2.5e+09, 2.5e+09, 2.5e+09,\n",
       "        2.5e+09, 2.5e+09, 2.5e+09, 2.5e+09, 2.5e+09, 2.5e+09, 2.5e+09,\n",
       "        2.5e+09, 2.5e+09, 2.5e+09, 2.5e+09, 2.5e+09, 2.5e+09, 2.5e+09,\n",
       "        2.5e+09, 2.5e+09, 2.5e+09, 2.5e+09, 2.5e+09, 2.5e+09, 2.5e+09,\n",
       "        2.5e+09, 2.5e+09, 2.5e+09, 2.5e+09, 2.5e+09, 2.5e+09, 2.5e+09,\n",
       "        2.5e+09, 2.5e+09, 2.5e+09, 2.5e+09, 2.5e+09, 2.5e+09, 2.5e+09,\n",
       "        2.5e+09, 2.5e+09, 2.5e+09, 2.5e+09, 2.5e+09, 2.5e+09, 2.5e+09,\n",
       "        2.5e+09, 2.5e+09, 2.5e+09, 2.5e+09, 2.5e+09, 2.5e+09, 2.5e+09,\n",
       "        2.5e+09, 2.5e+09, 2.5e+09, 2.5e+09, 2.5e+09, 2.5e+09, 2.5e+09,\n",
       "        2.5e+09, 2.5e+09, 2.5e+09, 2.5e+09, 2.5e+09, 2.5e+09, 2.5e+09,\n",
       "        2.5e+09, 2.5e+09, 2.5e+09, 2.5e+09, 2.5e+09, 2.5e+09, 2.5e+09,\n",
       "        2.5e+09, 2.5e+09]),\n",
       " array([3.3e+09, 3.3e+09, 3.3e+09, 3.3e+09, 3.3e+09, 3.3e+09, 3.3e+09,\n",
       "        3.3e+09, 3.3e+09, 3.3e+09, 3.3e+09, 3.3e+09, 3.3e+09, 3.3e+09,\n",
       "        3.3e+09, 3.3e+09, 3.3e+09, 3.3e+09, 3.3e+09, 3.3e+09, 3.3e+09,\n",
       "        3.3e+09, 3.3e+09, 3.3e+09, 3.3e+09, 3.3e+09, 3.3e+09, 3.3e+09,\n",
       "        3.3e+09, 3.3e+09, 3.3e+09, 3.3e+09, 3.3e+09, 3.3e+09, 3.3e+09,\n",
       "        3.3e+09, 3.3e+09, 3.3e+09, 3.3e+09, 3.3e+09, 3.3e+09, 3.3e+09,\n",
       "        3.3e+09, 3.3e+09, 3.3e+09, 3.3e+09, 3.3e+09, 3.3e+09, 3.3e+09,\n",
       "        3.3e+09, 3.3e+09, 3.3e+09, 3.3e+09, 3.3e+09, 3.3e+09, 3.3e+09,\n",
       "        3.3e+09, 3.3e+09, 3.3e+09, 3.3e+09, 3.3e+09, 3.3e+09, 3.3e+09,\n",
       "        3.3e+09, 3.3e+09, 3.3e+09, 3.3e+09, 3.3e+09, 3.3e+09, 3.3e+09,\n",
       "        3.3e+09, 3.3e+09, 3.3e+09, 3.3e+09, 3.3e+09, 3.3e+09, 3.3e+09,\n",
       "        3.3e+09, 3.3e+09, 3.3e+09, 3.3e+09, 3.3e+09, 3.3e+09, 3.3e+09,\n",
       "        3.3e+09, 3.3e+09, 3.3e+09, 3.3e+09, 3.3e+09, 3.3e+09, 3.3e+09,\n",
       "        3.3e+09, 3.3e+09, 3.3e+09, 3.3e+09, 3.3e+09, 3.3e+09, 3.3e+09,\n",
       "        3.3e+09, 3.3e+09])]"
      ]
     },
     "execution_count": 76,
     "metadata": {},
     "output_type": "execute_result"
    }
   ],
   "source": [
    "bottom"
   ]
  },
  {
   "cell_type": "code",
   "execution_count": 81,
   "metadata": {},
   "outputs": [],
   "source": [
    "np.prod(z_fraction[:i]) * (1.0 - z_fraction[i])"
   ]
  },
  {
   "cell_type": "code",
   "execution_count": 174,
   "metadata": {},
   "outputs": [],
   "source": [
    "agelims = np.array([0, 3e-2, 1e-1, 3.3e-1, 1.1, 3.6, 11.7, 13.8])\n",
    "ncomp = len(agelims) - 1\n",
    "alpha = np.arange(ncomp-1, 0, -1)\n",
    "zprior = priors.Beta(alpha=alpha, beta=np.ones_like(alpha), mini=0.0, maxi=1.0)\n",
    "\n",
    "time_in_each_bin = np.diff(agelims, axis=-1)"
   ]
  },
  {
   "cell_type": "code",
   "execution_count": 189,
   "metadata": {},
   "outputs": [
    {
     "data": {
      "text/plain": [
       "[<matplotlib.lines.Line2D at 0x1b6131a850>]"
      ]
     },
     "execution_count": 189,
     "metadata": {},
     "output_type": "execute_result"
    },
    {
     "data": {
      "image/png": "[encoded data removed]",
      "text/plain": [
       "<Figure size 432x288 with 1 Axes>"
      ]
     },
     "metadata": {
      "needs_background": "light"
     },
     "output_type": "display_data"
    }
   ],
   "source": [
    "plt.plot(zprior.sample())"
   ]
  },
  {
   "cell_type": "code",
   "execution_count": 175,
   "metadata": {},
   "outputs": [],
   "source": [
    "samp = zprior.sample()"
   ]
  },
  {
   "cell_type": "code",
   "execution_count": 192,
   "metadata": {},
   "outputs": [],
   "source": [
    "sSFR_dir = samp /  np.sum(time_in_each_bin[0:-1]*1.0e9 * samp)"
   ]
  },
  {
   "cell_type": "code",
   "execution_count": 193,
   "metadata": {},
   "outputs": [
    {
     "data": {
      "image/png": "[encoded data removed]",
      "text/plain": [
       "<Figure size 432x288 with 1 Axes>"
      ]
     },
     "metadata": {
      "needs_background": "light"
     },
     "output_type": "display_data"
    }
   ],
   "source": [
    "n, bins, _ = plt.hist(np.log10(sSFR_dir), bins=6, histtype='step')\n",
    "plt.yscale('log')"
   ]
  },
  {
   "cell_type": "code",
   "execution_count": 185,
   "metadata": {},
   "outputs": [
    {
     "data": {
      "text/plain": [
       "array([1.24260927e-10, 1.25802357e-10, 3.35553365e-11, 1.30927747e-10,\n",
       "       6.44147681e-11, 4.16431405e-11])"
      ]
     },
     "execution_count": 185,
     "metadata": {},
     "output_type": "execute_result"
    }
   ],
   "source": [
    "sSFR_dir"
   ]
  },
  {
   "cell_type": "code",
   "execution_count": 190,
   "metadata": {},
   "outputs": [
    {
     "data": {
      "text/plain": [
       "7"
      ]
     },
     "execution_count": 190,
     "metadata": {},
     "output_type": "execute_result"
    }
   ],
   "source": [
    "len(time_in_each_bin)"
   ]
  },
  {
   "cell_type": "code",
   "execution_count": 191,
   "metadata": {},
   "outputs": [
    {
     "data": {
      "text/plain": [
       "6"
      ]
     },
     "execution_count": 191,
     "metadata": {},
     "output_type": "execute_result"
    }
   ],
   "source": [
    "len(samp)"
   ]
  },
  {
   "cell_type": "code",
   "execution_count": null,
   "metadata": {},
   "outputs": [],
   "source": [
    "summ = []\n",
    "for i in range(len(time_in_each_bin)):\n",
    "    "
   ]
  }
 ],
 "metadata": {
  "kernelspec": {
   "display_name": "Python 3",
   "language": "python",
   "name": "python3"
  },
  "language_info": {
   "codemirror_mode": {
    "name": "ipython",
    "version": 3
   },
   "file_extension": ".py",
   "mimetype": "text/x-python",
   "name": "python",
   "nbconvert_exporter": "python",
   "pygments_lexer": "ipython3",
   "version": "3.7.4"
  }
 },
 "nbformat": 4,
 "nbformat_minor": 2
}
